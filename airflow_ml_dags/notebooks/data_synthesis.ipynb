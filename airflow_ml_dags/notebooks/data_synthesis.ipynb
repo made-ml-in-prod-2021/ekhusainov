{
 "cells": [
  {
   "cell_type": "code",
   "execution_count": 1,
   "metadata": {},
   "outputs": [],
   "source": [
    "import numpy as np\n",
    "import matplotlib.pyplot as plt\n",
    "from sklearn.linear_model import LogisticRegression\n",
    "\n",
    "%matplotlib inline"
   ]
  },
  {
   "cell_type": "code",
   "execution_count": 2,
   "metadata": {},
   "outputs": [
    {
     "data": {
      "text/plain": [
       "<matplotlib.collections.PathCollection at 0x127b90b97c0>"
      ]
     },
     "execution_count": 2,
     "metadata": {},
     "output_type": "execute_result"
    },
    {
     "data": {
      "image/png": "[encoded data removed]",
      "text/plain": [
       "<Figure size 432x432 with 1 Axes>"
      ]
     },
     "metadata": {
      "needs_background": "light"
     },
     "output_type": "display_data"
    }
   ],
   "source": [
    "# Simulate data from a bivariate Gaussian\n",
    "N_SAMPLES = 100\n",
    "\n",
    "MEAN = np.array([0, 0])\n",
    "COV = [(2, 0.4), (0.4, 0.2)]\n",
    "DELTA = np.array([5, 5])\n",
    "\n",
    "x_target_1 = np.random.multivariate_normal(MEAN, COV, N_SAMPLES).T\n",
    "\n",
    "x_target_2 = np.random.multivariate_normal(MEAN + DELTA, COV, N_SAMPLES).T\n",
    "\n",
    "f, ax = plt.subplots(figsize=(6, 6))\n",
    "plt.scatter(x=x_target_1[0], y=x_target_1[1], s=5, color=\"r\", alpha=0.5)\n",
    "plt.scatter(x=x_target_2[0], y=x_target_2[1], s=5, color=\"g\", alpha=0.5)"
   ]
  },
  {
   "cell_type": "code",
   "execution_count": 5,
   "metadata": {},
   "outputs": [
    {
     "data": {
      "text/plain": [
       "LogisticRegression()"
      ]
     },
     "execution_count": 5,
     "metadata": {},
     "output_type": "execute_result"
    }
   ],
   "source": [
    "full_x = np.concatenate([x_target_1, x_target_2], axis=1)\n",
    "full_x = full_x.T\n",
    "y_target = N_SAMPLES * [0] + N_SAMPLES * [1]\n",
    "log_regr = LogisticRegression()\n",
    "log_regr.fit(full_x, y_target)"
   ]
  },
  {
   "cell_type": "code",
   "execution_count": 6,
   "metadata": {},
   "outputs": [],
   "source": [
    "shuffled_x = full_x[np.random.permutation(full_x.shape[0])]"
   ]
  },
  {
   "cell_type": "code",
   "execution_count": 7,
   "metadata": {},
   "outputs": [
    {
     "data": {
      "text/plain": [
       "<matplotlib.collections.PathCollection at 0x127b911bc10>"
      ]
     },
     "execution_count": 7,
     "metadata": {},
     "output_type": "execute_result"
    },
    {
     "data": {
      "image/png": "[encoded data removed]",
      "text/plain": [
       "<Figure size 432x432 with 1 Axes>"
      ]
     },
     "metadata": {
      "needs_background": "light"
     },
     "output_type": "display_data"
    }
   ],
   "source": [
    "# Перемешал данные и убедился, что те же самые.\n",
    "f, ax = plt.subplots(figsize=(6, 6))\n",
    "plt.scatter(x=shuffled_x[:, 0], y=shuffled_x[:, 1], s=5, color=\"black\", alpha=0.5)"
   ]
  },
  {
   "cell_type": "code",
   "execution_count": 34,
   "metadata": {},
   "outputs": [
    {
     "data": {
      "text/plain": [
       "array([[-1.78414333e+00, -4.31387108e-01,  0.00000000e+00],\n",
       "       [ 1.81719369e+00,  9.80117249e-01,  0.00000000e+00],\n",
       "       [-1.93251004e+00, -4.68763090e-01,  0.00000000e+00],\n",
       "       [-4.41010747e+00, -1.17924152e+00,  0.00000000e+00],\n",
       "       [ 1.42529744e+00,  9.94153256e-01,  0.00000000e+00],\n",
       "       [ 8.08623293e-01,  2.39085603e-01,  0.00000000e+00],\n",
       "       [ 3.32894940e+00,  3.26945981e-02,  0.00000000e+00],\n",
       "       [ 4.27600566e-01,  6.37055698e-02,  0.00000000e+00],\n",
       "       [-2.26496682e+00, -4.05055927e-01,  0.00000000e+00],\n",
       "       [ 2.47956642e-01,  1.12740955e-01,  0.00000000e+00],\n",
       "       [ 3.92402528e-02,  2.74124654e-01,  0.00000000e+00],\n",
       "       [ 5.17403066e-01, -4.38339180e-02,  0.00000000e+00],\n",
       "       [ 3.81846343e-01,  1.01140493e-01,  0.00000000e+00],\n",
       "       [-2.58393225e-01,  6.53292484e-02,  0.00000000e+00],\n",
       "       [-4.24399070e-01, -1.40170616e-01,  0.00000000e+00],\n",
       "       [-7.58722527e-01, -1.67994814e-01,  0.00000000e+00],\n",
       "       [ 1.62213524e+00,  7.33239585e-01,  0.00000000e+00],\n",
       "       [-3.07793353e+00, -3.48749622e-01,  0.00000000e+00],\n",
       "       [ 4.74826127e-02, -1.71390481e-01,  0.00000000e+00],\n",
       "       [-1.65328913e+00, -7.44932915e-01,  0.00000000e+00],\n",
       "       [ 1.71507297e-01,  6.87797892e-02,  0.00000000e+00],\n",
       "       [-2.17283107e-01,  4.35501770e-01,  0.00000000e+00],\n",
       "       [ 4.97289752e-01, -4.03267860e-02,  0.00000000e+00],\n",
       "       [ 6.25992384e-01,  1.72411963e-01,  0.00000000e+00],\n",
       "       [-4.40272603e-02,  6.35964350e-02,  0.00000000e+00],\n",
       "       [-3.99289426e-01, -3.76388344e-01,  0.00000000e+00],\n",
       "       [-1.86517030e+00, -3.72133996e-01,  0.00000000e+00],\n",
       "       [-1.44615303e+00, -6.34225190e-01,  0.00000000e+00],\n",
       "       [-1.86961253e+00, -4.87560115e-01,  0.00000000e+00],\n",
       "       [-1.21954677e+00, -3.76937060e-01,  0.00000000e+00],\n",
       "       [-3.88767329e-01, -4.17601515e-01,  0.00000000e+00],\n",
       "       [ 9.31986995e-01,  5.41542649e-01,  0.00000000e+00],\n",
       "       [-7.42779459e-02,  7.74608135e-01,  0.00000000e+00],\n",
       "       [ 2.27194384e+00,  6.44259562e-01,  0.00000000e+00],\n",
       "       [-1.39617439e+00, -1.96582169e-01,  0.00000000e+00],\n",
       "       [-8.63015613e-01,  2.75756169e-01,  0.00000000e+00],\n",
       "       [-6.98088779e-01, -6.94241586e-01,  0.00000000e+00],\n",
       "       [ 8.28374604e-01,  8.38077981e-02,  0.00000000e+00],\n",
       "       [ 2.52690174e+00,  4.91802587e-01,  0.00000000e+00],\n",
       "       [-2.22550435e+00, -3.38215785e-01,  0.00000000e+00],\n",
       "       [-2.59857870e-01, -7.78339156e-01,  0.00000000e+00],\n",
       "       [-1.81658728e+00,  2.34960847e-01,  0.00000000e+00],\n",
       "       [ 2.36941057e+00,  8.80129140e-01,  0.00000000e+00],\n",
       "       [ 2.68509586e-01, -7.78587086e-02,  0.00000000e+00],\n",
       "       [ 2.74096292e+00,  3.31097993e-01,  0.00000000e+00],\n",
       "       [-1.29394730e+00, -2.45707810e-01,  0.00000000e+00],\n",
       "       [-3.37014805e-01, -7.93985532e-02,  0.00000000e+00],\n",
       "       [ 3.73466326e-01,  1.44096559e-02,  0.00000000e+00],\n",
       "       [-8.77438660e-01,  1.74260699e-01,  0.00000000e+00],\n",
       "       [ 2.71401177e+00,  4.42717421e-01,  0.00000000e+00],\n",
       "       [-4.70248504e-01, -5.56638323e-02,  0.00000000e+00],\n",
       "       [ 2.17099891e+00,  6.69968497e-01,  0.00000000e+00],\n",
       "       [ 9.86331482e-02, -1.42969666e-02,  0.00000000e+00],\n",
       "       [ 2.21644394e-01, -4.37299160e-02,  0.00000000e+00],\n",
       "       [-2.50159514e+00, -3.20102238e-01,  0.00000000e+00],\n",
       "       [-1.98106171e+00,  5.44090378e-02,  0.00000000e+00],\n",
       "       [-1.15615774e+00, -2.47452137e-01,  0.00000000e+00],\n",
       "       [-4.14731627e-01,  1.47704547e-01,  0.00000000e+00],\n",
       "       [ 7.34553345e-01,  1.69451950e-01,  0.00000000e+00],\n",
       "       [ 1.26541873e+00, -2.16196845e-01,  0.00000000e+00],\n",
       "       [-1.28453555e+00, -4.77420975e-01,  0.00000000e+00],\n",
       "       [ 4.30332889e-01,  3.06597914e-01,  0.00000000e+00],\n",
       "       [-2.59171671e+00, -9.40011844e-01,  0.00000000e+00],\n",
       "       [ 5.74201114e-01,  2.05344346e-01,  0.00000000e+00],\n",
       "       [ 1.59466439e+00, -7.06082813e-02,  0.00000000e+00],\n",
       "       [ 9.79066462e-01, -2.33725679e-02,  0.00000000e+00],\n",
       "       [-1.20713923e-02,  6.00059806e-03,  0.00000000e+00],\n",
       "       [-1.03104192e+00,  2.02530626e-01,  0.00000000e+00],\n",
       "       [-2.92994610e+00, -1.23702781e-01,  0.00000000e+00],\n",
       "       [ 1.98483001e+00,  1.50417065e-01,  0.00000000e+00],\n",
       "       [ 2.14168129e+00,  5.43466551e-01,  0.00000000e+00],\n",
       "       [-1.25506474e+00, -9.42561819e-01,  0.00000000e+00],\n",
       "       [ 1.52559189e+00,  6.37007730e-02,  0.00000000e+00],\n",
       "       [ 1.33499390e+00,  4.97917475e-01,  0.00000000e+00],\n",
       "       [-2.37642253e+00, -6.66900187e-01,  0.00000000e+00],\n",
       "       [ 8.35254844e-01,  2.39420584e-01,  0.00000000e+00],\n",
       "       [ 4.57351356e-01,  5.67890353e-01,  0.00000000e+00],\n",
       "       [ 2.76012596e+00,  3.46641781e-01,  0.00000000e+00],\n",
       "       [ 3.97320425e-01, -2.77157058e-01,  0.00000000e+00],\n",
       "       [-7.91766336e-01, -8.84279845e-01,  0.00000000e+00],\n",
       "       [-9.74710860e-01, -8.44496184e-02,  0.00000000e+00],\n",
       "       [-3.52582022e-01, -2.98332004e-01,  0.00000000e+00],\n",
       "       [ 1.52659028e+00,  5.33951259e-01,  0.00000000e+00],\n",
       "       [-1.81663229e+00, -3.64592625e-01,  0.00000000e+00],\n",
       "       [-3.78624896e+00, -1.15594320e+00,  0.00000000e+00],\n",
       "       [-1.22999668e+00,  1.07240557e-01,  0.00000000e+00],\n",
       "       [-4.33186816e-02, -2.86277040e-01,  0.00000000e+00],\n",
       "       [-1.15555059e+00, -8.10740310e-01,  0.00000000e+00],\n",
       "       [-1.01751437e+00, -4.02484061e-01,  0.00000000e+00],\n",
       "       [-7.35441491e-02,  1.96296287e-01,  0.00000000e+00],\n",
       "       [ 6.15332010e-01, -5.45382661e-02,  0.00000000e+00],\n",
       "       [ 9.57302256e-02,  6.20462423e-01,  0.00000000e+00],\n",
       "       [-6.39396191e-01,  6.29431609e-02,  0.00000000e+00],\n",
       "       [-1.37882318e+00, -1.25299214e-01,  0.00000000e+00],\n",
       "       [-1.07685560e+00, -7.50236860e-01,  0.00000000e+00],\n",
       "       [ 3.31110476e-01,  4.19410997e-01,  0.00000000e+00],\n",
       "       [ 7.45958084e-01,  1.15018672e-01,  0.00000000e+00],\n",
       "       [ 1.77324184e+00,  2.29195594e-01,  0.00000000e+00],\n",
       "       [ 1.85085120e+00,  9.70308204e-01,  0.00000000e+00],\n",
       "       [-1.40113662e+00, -5.00780633e-01,  0.00000000e+00],\n",
       "       [ 8.62244105e+00,  5.13614514e+00,  1.00000000e+00],\n",
       "       [ 3.96254660e+00,  4.93238725e+00,  1.00000000e+00],\n",
       "       [ 4.80735642e+00,  4.57340550e+00,  1.00000000e+00],\n",
       "       [ 4.23584936e+00,  4.28046097e+00,  1.00000000e+00],\n",
       "       [ 5.35158326e+00,  5.20084012e+00,  1.00000000e+00],\n",
       "       [ 7.36020259e+00,  6.06801005e+00,  1.00000000e+00],\n",
       "       [ 3.39207352e+00,  4.86536895e+00,  1.00000000e+00],\n",
       "       [ 5.98351610e+00,  5.00514011e+00,  1.00000000e+00],\n",
       "       [ 6.26821546e+00,  5.30682801e+00,  1.00000000e+00],\n",
       "       [ 2.76026874e+00,  4.66557906e+00,  1.00000000e+00],\n",
       "       [ 6.13008595e+00,  5.53255796e+00,  1.00000000e+00],\n",
       "       [ 4.96013507e+00,  4.61826005e+00,  1.00000000e+00],\n",
       "       [ 3.72280031e+00,  4.52164472e+00,  1.00000000e+00],\n",
       "       [ 5.59567376e+00,  5.19135344e+00,  1.00000000e+00],\n",
       "       [ 6.74550053e+00,  5.70472269e+00,  1.00000000e+00],\n",
       "       [ 5.93499829e+00,  4.99184719e+00,  1.00000000e+00],\n",
       "       [ 6.00676820e+00,  5.03642198e+00,  1.00000000e+00],\n",
       "       [ 5.60177492e+00,  4.54566869e+00,  1.00000000e+00],\n",
       "       [ 2.28446931e+00,  4.47338404e+00,  1.00000000e+00],\n",
       "       [ 3.24040904e+00,  4.99968719e+00,  1.00000000e+00],\n",
       "       [ 4.49823918e+00,  4.59570776e+00,  1.00000000e+00],\n",
       "       [ 3.82023325e+00,  5.60325841e+00,  1.00000000e+00],\n",
       "       [ 6.87141980e+00,  5.77401581e+00,  1.00000000e+00],\n",
       "       [ 3.39561627e+00,  4.83573884e+00,  1.00000000e+00],\n",
       "       [ 5.61157198e+00,  5.03562753e+00,  1.00000000e+00],\n",
       "       [ 2.72593742e-01,  3.99038382e+00,  1.00000000e+00],\n",
       "       [ 4.84280601e+00,  5.19382888e+00,  1.00000000e+00],\n",
       "       [ 3.42112803e+00,  4.64057254e+00,  1.00000000e+00],\n",
       "       [ 4.56797605e+00,  5.48442684e+00,  1.00000000e+00],\n",
       "       [ 4.67899831e+00,  4.84146509e+00,  1.00000000e+00],\n",
       "       [ 6.11573658e+00,  5.09387750e+00,  1.00000000e+00],\n",
       "       [ 8.67269813e+00,  5.89897761e+00,  1.00000000e+00],\n",
       "       [ 5.36075906e+00,  5.19667538e+00,  1.00000000e+00],\n",
       "       [ 7.02041589e+00,  4.97262200e+00,  1.00000000e+00],\n",
       "       [ 6.33405144e+00,  5.97730066e+00,  1.00000000e+00],\n",
       "       [ 5.56216835e+00,  4.71978708e+00,  1.00000000e+00],\n",
       "       [ 6.12455698e+00,  5.35809131e+00,  1.00000000e+00],\n",
       "       [ 5.86800131e+00,  5.26173245e+00,  1.00000000e+00],\n",
       "       [ 3.94275748e+00,  4.88102991e+00,  1.00000000e+00],\n",
       "       [ 6.04557166e+00,  5.20189130e+00,  1.00000000e+00],\n",
       "       [ 3.76026865e+00,  4.72272622e+00,  1.00000000e+00],\n",
       "       [ 5.14439541e+00,  5.57194156e+00,  1.00000000e+00],\n",
       "       [ 2.71466080e+00,  4.02664486e+00,  1.00000000e+00],\n",
       "       [ 4.72251515e+00,  4.50615742e+00,  1.00000000e+00],\n",
       "       [ 3.74357861e+00,  5.22029883e+00,  1.00000000e+00],\n",
       "       [ 6.94738199e+00,  5.63071372e+00,  1.00000000e+00],\n",
       "       [ 4.55915099e+00,  4.33919062e+00,  1.00000000e+00],\n",
       "       [ 6.58794868e+00,  5.59839113e+00,  1.00000000e+00],\n",
       "       [ 5.96799498e+00,  5.23057426e+00,  1.00000000e+00],\n",
       "       [ 3.45042736e+00,  4.91161090e+00,  1.00000000e+00],\n",
       "       [ 3.43601298e+00,  4.65111499e+00,  1.00000000e+00],\n",
       "       [ 4.15487398e+00,  5.11712824e+00,  1.00000000e+00],\n",
       "       [ 3.20124124e+00,  4.92060326e+00,  1.00000000e+00],\n",
       "       [ 4.24168103e+00,  5.26455566e+00,  1.00000000e+00],\n",
       "       [ 6.27348420e+00,  5.71053080e+00,  1.00000000e+00],\n",
       "       [ 3.91686926e+00,  4.63824602e+00,  1.00000000e+00],\n",
       "       [ 3.05629562e+00,  4.03213335e+00,  1.00000000e+00],\n",
       "       [ 7.33516186e+00,  5.35419603e+00,  1.00000000e+00],\n",
       "       [ 2.97857366e+00,  4.88701257e+00,  1.00000000e+00],\n",
       "       [ 7.82608371e+00,  5.39569804e+00,  1.00000000e+00],\n",
       "       [ 3.52037346e+00,  4.10675830e+00,  1.00000000e+00],\n",
       "       [ 5.31981689e+00,  4.96973313e+00,  1.00000000e+00],\n",
       "       [ 5.27420812e+00,  4.31152417e+00,  1.00000000e+00],\n",
       "       [ 3.69604031e+00,  4.81240679e+00,  1.00000000e+00],\n",
       "       [ 4.19161199e+00,  5.06728579e+00,  1.00000000e+00],\n",
       "       [ 2.54567567e+00,  4.31886775e+00,  1.00000000e+00],\n",
       "       [ 4.60671442e+00,  4.61733746e+00,  1.00000000e+00],\n",
       "       [ 6.17386968e+00,  4.52759041e+00,  1.00000000e+00],\n",
       "       [ 5.57647124e+00,  5.23763787e+00,  1.00000000e+00],\n",
       "       [ 6.20676718e+00,  5.43319014e+00,  1.00000000e+00],\n",
       "       [ 4.30048345e+00,  5.30073770e+00,  1.00000000e+00],\n",
       "       [ 4.63479610e+00,  5.20595833e+00,  1.00000000e+00],\n",
       "       [ 2.78341254e+00,  4.11778877e+00,  1.00000000e+00],\n",
       "       [ 5.58843717e+00,  4.60594832e+00,  1.00000000e+00],\n",
       "       [ 6.78542661e+00,  4.90733183e+00,  1.00000000e+00],\n",
       "       [ 2.32833379e+00,  4.24058846e+00,  1.00000000e+00],\n",
       "       [ 7.82882960e+00,  5.55065896e+00,  1.00000000e+00],\n",
       "       [ 4.59067189e+00,  4.75279253e+00,  1.00000000e+00],\n",
       "       [ 5.71973695e+00,  4.53941509e+00,  1.00000000e+00],\n",
       "       [ 6.05689946e+00,  5.74670977e+00,  1.00000000e+00],\n",
       "       [ 6.87094960e+00,  5.52599209e+00,  1.00000000e+00],\n",
       "       [ 4.51879601e+00,  5.10199511e+00,  1.00000000e+00],\n",
       "       [ 6.59827371e+00,  5.05980754e+00,  1.00000000e+00],\n",
       "       [ 5.47097674e+00,  5.26152394e+00,  1.00000000e+00],\n",
       "       [ 4.65197117e+00,  4.83565116e+00,  1.00000000e+00],\n",
       "       [ 4.65854408e+00,  5.04490807e+00,  1.00000000e+00],\n",
       "       [ 4.01973749e+00,  4.84490953e+00,  1.00000000e+00],\n",
       "       [ 5.73823489e+00,  5.33359716e+00,  1.00000000e+00],\n",
       "       [ 4.96033387e+00,  5.94250420e+00,  1.00000000e+00],\n",
       "       [ 2.70467147e+00,  4.61327475e+00,  1.00000000e+00],\n",
       "       [ 3.98899823e+00,  4.83807192e+00,  1.00000000e+00],\n",
       "       [ 6.08096584e+00,  5.25927350e+00,  1.00000000e+00],\n",
       "       [ 5.22764347e+00,  4.62078256e+00,  1.00000000e+00],\n",
       "       [ 5.12617334e+00,  5.04121895e+00,  1.00000000e+00],\n",
       "       [ 5.42331027e+00,  5.07129152e+00,  1.00000000e+00],\n",
       "       [ 5.31681559e+00,  5.01446326e+00,  1.00000000e+00],\n",
       "       [ 4.92916514e+00,  4.85201214e+00,  1.00000000e+00],\n",
       "       [ 3.85376073e+00,  4.75401623e+00,  1.00000000e+00],\n",
       "       [ 3.12502021e+00,  4.39865538e+00,  1.00000000e+00],\n",
       "       [ 3.76843768e+00,  4.62041595e+00,  1.00000000e+00]])"
      ]
     },
     "execution_count": 34,
     "metadata": {},
     "output_type": "execute_result"
    }
   ],
   "source": [
    "y_target = np.array(y_target)\n",
    "np.hstack((full_x, y_target.reshape(-1, 1)))"
   ]
  },
  {
   "cell_type": "code",
   "execution_count": 30,
   "metadata": {},
   "outputs": [
    {
     "data": {
      "text/plain": [
       "((200, 2), (200,))"
      ]
     },
     "execution_count": 30,
     "metadata": {},
     "output_type": "execute_result"
    }
   ],
   "source": [
    "full_x.shape, np.array(y_target).shape"
   ]
  }
 ],
 "metadata": {
  "kernelspec": {
   "display_name": "Python 3",
   "language": "python",
   "name": "python3"
  },
  "language_info": {
   "codemirror_mode": {
    "name": "ipython",
    "version": 3
   },
   "file_extension": ".py",
   "mimetype": "text/x-python",
   "name": "python",
   "nbconvert_exporter": "python",
   "pygments_lexer": "ipython3",
   "version": "3.8.3"
  }
 },
 "nbformat": 4,
 "nbformat_minor": 4
}
